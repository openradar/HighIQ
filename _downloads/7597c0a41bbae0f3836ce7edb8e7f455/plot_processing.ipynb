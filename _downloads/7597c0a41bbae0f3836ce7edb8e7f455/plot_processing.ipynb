{
  "cells": [
    {
      "cell_type": "code",
      "execution_count": null,
      "metadata": {
        "collapsed": false
      },
      "outputs": [],
      "source": [
        "%matplotlib inline"
      ]
    },
    {
      "cell_type": "markdown",
      "metadata": {},
      "source": [
        "\n# Example on processing moments from ARM Doppler Lidar ACF data\n\n"
      ]
    },
    {
      "cell_type": "code",
      "execution_count": null,
      "metadata": {
        "collapsed": false
      },
      "outputs": [],
      "source": [
        "import highiq\nimport matplotlib.pyplot as plt\n\n# Load the data. This uses a module in the Atmospheric Community\n# Toolkit to ensure that the input acf data are always\n# entered into a 3D array of (time, nsamples, complex)\n\nmy_ds = highiq.io.load_arm_netcdf(highiq.testing.TEST_FILE)\nmy_ds_processed = highiq.calc.get_psd(my_ds)\n\n# For plotting the spectra, simply use xarray's built in functionality\n#\nmy_ds_processed.power_spectra_normed_interp.sel(range=400, method='nearest').plot()\nplt.show()\n\n# To retrieve the lidar moments, we can simply do this in one line\nmy_ds_processed = highiq.calc.get_lidar_moments(my_ds_processed)\n\nmy_ds_processed.intensity.plot()\nplt.show()\n\nmy_ds_processed.close()\nmy_ds.close()"
      ]
    }
  ],
  "metadata": {
    "kernelspec": {
      "display_name": "Python 3",
      "language": "python",
      "name": "python3"
    },
    "language_info": {
      "codemirror_mode": {
        "name": "ipython",
        "version": 3
      },
      "file_extension": ".py",
      "mimetype": "text/x-python",
      "name": "python",
      "nbconvert_exporter": "python",
      "pygments_lexer": "ipython3",
      "version": "3.7.4"
    }
  },
  "nbformat": 4,
  "nbformat_minor": 0
}